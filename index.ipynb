{
 "cells": [
  {
   "cell_type": "code",
   "execution_count": null,
   "metadata": {},
   "outputs": [],
   "source": [
    "#| hide\n",
    "# to hide scanpy's warnings\n",
    "import logging\n",
    "logging.basicConfig(level=logging.CRITICAL)\n",
    "import warnings\n",
    "# Filter out FutureWarning and UserWarning\n",
    "warnings.filterwarnings(\"ignore\", category=FutureWarning)\n",
    "warnings.filterwarnings(\"ignore\", category=UserWarning)\n",
    "\n",
    "from pathlib import Path\n",
    "\n",
    "import pandas as pd\n",
    "import roux.lib.df as rd\n",
    "\n",
    "from parag.utils import export_plot\n",
    "\n",
    "## parameters\n",
    "output_dir_path='examples/outputs/'\n",
    "Path(output_dir_path).mkdir(parents=True,exist_ok=True)\n",
    "## for showing interactive plots in the gh-pages\n",
    "redirect_fun_html=lambda x: x.split('/',1)[1]\n",
    "hyperlink=\"https://rraadd88.github.io/parag#interpretation-as-a-hypergraph-using-proportion-of-degrees-by-communities\""
   ]
  },
  {
   "cell_type": "markdown",
   "metadata": {},
   "source": [
    "``parag``<a href=\"#\"><img src=\"https://openmoji.org/data/color/svg/1F386.svg\" align=\"right\" width=\"20%\"></a>\n",
    "====================\n",
    "**Para**  (beyond pairwise) **G**raph: interactive visualization of higher-order graphs in Python\n",
    "\n",
    "<!-- [![Contributors][contributors-shield]][contributors-url]\n",
    "[![Forks][forks-shield]][forks-url]\n",
    "[![Stargazers][stars-shield]][stars-url] -->\n",
    "<!-- <a href=\"\">[![PyPI](https://img.shields.io/pypi/v/parag?style=for-the-badge)![Python](https://img.shields.io/pypi/pyversions/parag?style=for-the-badge)](https://pypi.org/project/parag)</a> -->\n",
    "<a href=\"\">[![build](https://img.shields.io/github/actions/workflow/status/rraadd88/beditor/build.yml?style=for-the-badge)](https://github.com/rraadd88/parag/actions/workflows/build.yml)</a>\n",
    "<a href=\"\">[![Issues](https://img.shields.io/github/issues/rraadd88/parag.svg?style=for-the-badge)](https://github.com/rraadd88/parag/issues)</a>\n",
    "<a href=\"\">[![Downloads](https://img.shields.io/pypi/dm/parag?style=for-the-badge)](https://pepy.tech/project/parag)</a>\n",
    "<a href=\"\">[![GNU License](https://img.shields.io/github/license/rraadd88/parag.svg?style=for-the-badge)](https://github.com/rraadd88/parag/blob/master/LICENSE)</a>\n",
    "<a href=\"\">[![DOI](https://img.shields.io/badge/DOI-zenodo-blue?style=for-the-badge)](https://doi.org//zenodo.)</a>"
   ]
  },
  {
   "cell_type": "markdown",
   "metadata": {},
   "source": [
    "## Install"
   ]
  },
  {
   "cell_type": "markdown",
   "metadata": {},
   "source": [
    "```sh\n",
    "pip install parag\n",
    "```"
   ]
  },
  {
   "cell_type": "markdown",
   "metadata": {},
   "source": [
    "## Interpretation as a hypergraph, using proportion of degrees by communities\n",
    "\n",
    "Proportion of degrees by communities in a pairwise graph helps reveal how nodes are grouped together and connected within different communities. This analysis highlights clusters of nodes with strong internal connections, potentially representing higher-order relationships. By comparing the degree proportions within and between communities, we can distinguish internal cohesion from inter-community interactions. These insights aid in interpreting the graph as a hypergraph, where communities with high intra-community connections may signify higher-order relationships, offering a richer understanding of complex interactions beyond simple pairwise connections.\n",
    "\n",
    "Inspired by\n",
    "\n",
    "> Vehlow, Corinna, Thomas Reinhardt, and Daniel Weiskopf. \"Visualizing fuzzy overlapping communities in networks.\" IEEE Transactions on Visualization and Computer Graphics 19.12 (2013): 2486-2495.  \n",
    "    [Figure 9B](https://www.researchgate.net/profile/Corinna-Vehlow/publication/256837277/figure/fig4/AS:601696052985880@1520466926646/The-protein-protein-interaction-network-from-Figure-8-shown-with-our-circular-layout-a.png)\n",
    "\n",
    "Examples:  "
   ]
  },
  {
   "cell_type": "markdown",
   "metadata": {},
   "source": [
    "### Gene interaction networks"
   ]
  },
  {
   "cell_type": "code",
   "execution_count": null,
   "metadata": {},
   "outputs": [
    {
     "data": {
      "text/html": [
       "<div>\n",
       "<style scoped>\n",
       "    .dataframe tbody tr th:only-of-type {\n",
       "        vertical-align: middle;\n",
       "    }\n",
       "\n",
       "    .dataframe tbody tr th {\n",
       "        vertical-align: top;\n",
       "    }\n",
       "\n",
       "    .dataframe thead th {\n",
       "        text-align: right;\n",
       "    }\n",
       "</style>\n",
       "<table border=\"1\" class=\"dataframe\">\n",
       "  <thead>\n",
       "    <tr style=\"text-align: right;\">\n",
       "      <th></th>\n",
       "      <th>Gene ID</th>\n",
       "      <th>Essentiality (determined from multiple datasets)</th>\n",
       "      <th>Data Source</th>\n",
       "    </tr>\n",
       "  </thead>\n",
       "  <tbody>\n",
       "    <tr>\n",
       "      <th>0</th>\n",
       "      <td>122809</td>\n",
       "      <td>Non-essential</td>\n",
       "      <td>PMID:26472758,PMID:26472760,PMID:18239125</td>\n",
       "    </tr>\n",
       "  </tbody>\n",
       "</table>\n",
       "</div>"
      ],
      "text/plain": [
       "   Gene ID Essentiality (determined from multiple datasets)  \\\n",
       "0   122809                                    Non-essential   \n",
       "\n",
       "                                 Data Source  \n",
       "0  PMID:26472758,PMID:26472760,PMID:18239125  "
      ]
     },
     "execution_count": null,
     "metadata": {},
     "output_type": "execute_result"
    }
   ],
   "source": [
    "#| hide\n",
    "## nodes\n",
    "nodes=pd.read_csv(\n",
    "    \"https://snap.stanford.edu/biodata/datasets/10033/files/G-HumanEssential.tsv.gz\",\n",
    "    sep='\\t',\n",
    ")\n",
    "nodes.head(1)"
   ]
  },
  {
   "cell_type": "code",
   "execution_count": null,
   "metadata": {},
   "outputs": [
    {
     "data": {
      "text/html": [
       "<div>\n",
       "<style scoped>\n",
       "    .dataframe tbody tr th:only-of-type {\n",
       "        vertical-align: middle;\n",
       "    }\n",
       "\n",
       "    .dataframe tbody tr th {\n",
       "        vertical-align: top;\n",
       "    }\n",
       "\n",
       "    .dataframe thead th {\n",
       "        text-align: right;\n",
       "    }\n",
       "</style>\n",
       "<table border=\"1\" class=\"dataframe\">\n",
       "  <thead>\n",
       "    <tr style=\"text-align: right;\">\n",
       "      <th></th>\n",
       "      <th># protein1</th>\n",
       "      <th>protein2</th>\n",
       "      <th>tissue</th>\n",
       "    </tr>\n",
       "  </thead>\n",
       "  <tbody>\n",
       "    <tr>\n",
       "      <th>0</th>\n",
       "      <td>4790</td>\n",
       "      <td>79155</td>\n",
       "      <td>urinary_bladder</td>\n",
       "    </tr>\n",
       "  </tbody>\n",
       "</table>\n",
       "</div>"
      ],
      "text/plain": [
       "   # protein1  protein2           tissue\n",
       "0        4790     79155  urinary_bladder"
      ]
     },
     "execution_count": null,
     "metadata": {},
     "output_type": "execute_result"
    }
   ],
   "source": [
    "#| hide\n",
    "## edges\n",
    "df02=pd.read_csv(\n",
    "    \"https://snap.stanford.edu/biodata/datasets/10013/files/PPT-Ohmnet_tissues-combined.edgelist.gz\",\n",
    "    sep='\\t',\n",
    ")\n",
    "df02.head(1)"
   ]
  },
  {
   "cell_type": "code",
   "execution_count": null,
   "metadata": {},
   "outputs": [
    {
     "data": {
      "text/html": [
       "<div>\n",
       "<style scoped>\n",
       "    .dataframe tbody tr th:only-of-type {\n",
       "        vertical-align: middle;\n",
       "    }\n",
       "\n",
       "    .dataframe tbody tr th {\n",
       "        vertical-align: top;\n",
       "    }\n",
       "\n",
       "    .dataframe thead th {\n",
       "        text-align: right;\n",
       "    }\n",
       "</style>\n",
       "<table border=\"1\" class=\"dataframe\">\n",
       "  <thead>\n",
       "    <tr style=\"text-align: right;\">\n",
       "      <th></th>\n",
       "      <th># protein1</th>\n",
       "      <th>protein2</th>\n",
       "      <th>tissue</th>\n",
       "    </tr>\n",
       "  </thead>\n",
       "  <tbody>\n",
       "    <tr>\n",
       "      <th>1249541</th>\n",
       "      <td>1855</td>\n",
       "      <td>8312</td>\n",
       "      <td>cochlea</td>\n",
       "    </tr>\n",
       "  </tbody>\n",
       "</table>\n",
       "</div>"
      ],
      "text/plain": [
       "         # protein1  protein2   tissue\n",
       "1249541        1855      8312  cochlea"
      ]
     },
     "execution_count": null,
     "metadata": {},
     "output_type": "execute_result"
    }
   ],
   "source": [
    "#| hide\n",
    "## smallest network\n",
    "edges=df02.log.query(expr=f\"`tissue` == '{df02.groupby('tissue').size().sort_values().index.tolist()[0]}'\")\n",
    "edges.head(1)"
   ]
  },
  {
   "cell_type": "code",
   "execution_count": null,
   "metadata": {},
   "outputs": [],
   "source": [
    "#|output: false\n",
    "from parag.hypergraph import to_net\n",
    "cfg,df_=to_net(\n",
    "    nodes=nodes.sort_values('Essentiality (determined from multiple datasets)'),\n",
    "    edges=edges,\n",
    "    col_node_id='Gene ID',\n",
    "    col_source='# protein1',\n",
    "    col_target='protein2',\n",
    "    col_subset_id='Essentiality (determined from multiple datasets)',\n",
    "    show_node_names=True,\n",
    "    defaults=dict(\n",
    "        radius=250,\n",
    "        innerRadius=280,\n",
    "        outerRadius=295,\n",
    "        textSize=7,\n",
    "        textOffset=3,\n",
    "    ),\n",
    ")"
   ]
  },
  {
   "cell_type": "code",
   "execution_count": null,
   "metadata": {},
   "outputs": [
    {
     "data": {
      "text/html": [
       "\n",
       "        <iframe\n",
       "            width=\"100%\"\n",
       "            height=\"1000\"\n",
       "            src=\"outputs//interactions.html\"\n",
       "            frameborder=\"0\"\n",
       "            allowfullscreen\n",
       "            \n",
       "        ></iframe>\n",
       "        "
      ],
      "text/plain": [
       "<IPython.lib.display.IFrame>"
      ]
     },
     "execution_count": null,
     "metadata": {},
     "output_type": "execute_result"
    }
   ],
   "source": [
    "#|echo: false\n",
    "## for html\n",
    "export_plot(cfg,outp=f\"{output_dir_path}/interactions.html\",redirect=redirect_fun_html)"
   ]
  },
  {
   "cell_type": "code",
   "execution_count": null,
   "metadata": {},
   "outputs": [
    {
     "data": {
      "text/markdown": [
       "[![](examples/outputs//interactions.png)](https://rraadd88.github.io/parag#interpretation-as-a-hypergraph-using-proportion-of-degrees-by-communities)"
      ],
      "text/plain": [
       "<IPython.core.display.Markdown object>"
      ]
     },
     "execution_count": null,
     "metadata": {},
     "output_type": "execute_result"
    }
   ],
   "source": [
    "#|echo: false\n",
    "## for markdown\n",
    "export_plot(cfg,outp=f\"{output_dir_path}/interactions.png\",hyperlink=hyperlink)"
   ]
  },
  {
   "cell_type": "code",
   "execution_count": null,
   "metadata": {},
   "outputs": [
    {
     "data": {
      "text/html": [
       "<div>\n",
       "<style scoped>\n",
       "    .dataframe tbody tr th:only-of-type {\n",
       "        vertical-align: middle;\n",
       "    }\n",
       "\n",
       "    .dataframe tbody tr th {\n",
       "        vertical-align: top;\n",
       "    }\n",
       "\n",
       "    .dataframe thead th {\n",
       "        text-align: right;\n",
       "    }\n",
       "</style>\n",
       "<table border=\"1\" class=\"dataframe\">\n",
       "  <thead>\n",
       "    <tr style=\"text-align: right;\">\n",
       "      <th></th>\n",
       "      <th>source</th>\n",
       "      <th>Essential</th>\n",
       "      <th>Non-essential</th>\n",
       "    </tr>\n",
       "  </thead>\n",
       "  <tbody>\n",
       "    <tr>\n",
       "      <th>0</th>\n",
       "      <td>25836</td>\n",
       "      <td>0.0</td>\n",
       "      <td>1.0</td>\n",
       "    </tr>\n",
       "  </tbody>\n",
       "</table>\n",
       "</div>"
      ],
      "text/plain": [
       "   source  Essential  Non-essential\n",
       "0   25836        0.0            1.0"
      ]
     },
     "execution_count": null,
     "metadata": {},
     "output_type": "execute_result"
    }
   ],
   "source": [
    "#| hide\n",
    "## degree fractions\n",
    "df_.head(1)"
   ]
  },
  {
   "cell_type": "markdown",
   "metadata": {},
   "source": [
    "### Neighbourhood analysis in latent space e.g. single cell data"
   ]
  },
  {
   "cell_type": "code",
   "execution_count": null,
   "metadata": {},
   "outputs": [],
   "source": [
    "#| hide\n",
    "## demo data\n",
    "import scanpy as sc\n",
    "adata = sc.datasets.pbmc68k_reduced()"
   ]
  },
  {
   "cell_type": "code",
   "execution_count": null,
   "metadata": {},
   "outputs": [
    {
     "data": {
      "image/png": "[encoded data removed]",
      "text/plain": [
       "<Figure size 640x480 with 1 Axes>"
      ]
     },
     "metadata": {},
     "output_type": "display_data"
    }
   ],
   "source": [
    "sc.pl.umap(adata, color=\"bulk_labels\",title='Latent space')"
   ]
  },
  {
   "cell_type": "code",
   "execution_count": null,
   "metadata": {},
   "outputs": [],
   "source": [
    "from parag.core import get_net_data\n",
    "nodes,edges=get_net_data(adata) ## generated network data by measuring distances in the latent space and thresholding"
   ]
  },
  {
   "cell_type": "code",
   "execution_count": null,
   "metadata": {},
   "outputs": [],
   "source": [
    "#|output: false\n",
    "from parag.hypergraph import to_net\n",
    "cfg,df_=to_net(\n",
    "    nodes,\n",
    "    edges,\n",
    "    col_node_id='cell id',\n",
    "    col_source='cell id1',\n",
    "    col_target='cell id2',\n",
    "    col_subset_id='bulk_labels',\n",
    "    show_node_names=False,\n",
    "    defaults=dict(\n",
    "            textSize=8,\n",
    "            textOffset=3,\n",
    "    ),\n",
    ")"
   ]
  },
  {
   "cell_type": "code",
   "execution_count": null,
   "metadata": {},
   "outputs": [
    {
     "data": {
      "text/html": [
       "\n",
       "        <iframe\n",
       "            width=\"100%\"\n",
       "            height=\"1000\"\n",
       "            src=\"outputs//neighbourhoods.html\"\n",
       "            frameborder=\"0\"\n",
       "            allowfullscreen\n",
       "            \n",
       "        ></iframe>\n",
       "        "
      ],
      "text/plain": [
       "<IPython.lib.display.IFrame>"
      ]
     },
     "execution_count": null,
     "metadata": {},
     "output_type": "execute_result"
    }
   ],
   "source": [
    "#|echo: false\n",
    "export_plot(cfg,outp=f\"{output_dir_path}/neighbourhoods.html\",redirect=redirect_fun_html)"
   ]
  },
  {
   "cell_type": "code",
   "execution_count": null,
   "metadata": {},
   "outputs": [
    {
     "data": {
      "text/markdown": [
       "[![](examples/outputs//neighbourhoods.png)](https://rraadd88.github.io/parag#interpretation-as-a-hypergraph-using-proportion-of-degrees-by-communities)"
      ],
      "text/plain": [
       "<IPython.core.display.Markdown object>"
      ]
     },
     "execution_count": null,
     "metadata": {},
     "output_type": "execute_result"
    }
   ],
   "source": [
    "#|echo: false\n",
    "export_plot(cfg,outp=f\"{output_dir_path}/neighbourhoods.png\",hyperlink=hyperlink)"
   ]
  },
  {
   "cell_type": "markdown",
   "metadata": {},
   "source": [
    "### Heterogeneous graph e.g. drug side-effects network"
   ]
  },
  {
   "cell_type": "code",
   "execution_count": null,
   "metadata": {},
   "outputs": [
    {
     "data": {
      "text/html": [
       "<div>\n",
       "<style scoped>\n",
       "    .dataframe tbody tr th:only-of-type {\n",
       "        vertical-align: middle;\n",
       "    }\n",
       "\n",
       "    .dataframe tbody tr th {\n",
       "        vertical-align: top;\n",
       "    }\n",
       "\n",
       "    .dataframe thead th {\n",
       "        text-align: right;\n",
       "    }\n",
       "</style>\n",
       "<table border=\"1\" class=\"dataframe\">\n",
       "  <thead>\n",
       "    <tr style=\"text-align: right;\">\n",
       "      <th></th>\n",
       "      <th># STITCH</th>\n",
       "      <th>Individual Side Effect</th>\n",
       "      <th>Side Effect Name</th>\n",
       "    </tr>\n",
       "  </thead>\n",
       "  <tbody>\n",
       "    <tr>\n",
       "      <th>0</th>\n",
       "      <td>CID003062316</td>\n",
       "      <td>C1096328</td>\n",
       "      <td>central nervous system mass</td>\n",
       "    </tr>\n",
       "  </tbody>\n",
       "</table>\n",
       "</div>"
      ],
      "text/plain": [
       "       # STITCH Individual Side Effect             Side Effect Name\n",
       "0  CID003062316               C1096328  central nervous system mass"
      ]
     },
     "execution_count": null,
     "metadata": {},
     "output_type": "execute_result"
    }
   ],
   "source": [
    "#| hide\n",
    "%reset_selective -f \"^df.*\"\n",
    "df02=pd.read_csv(\n",
    "    \"https://snap.stanford.edu/biodata/datasets/10018/files/ChSe-Decagon_monopharmacy.csv.gz\",\n",
    "    sep=',',\n",
    "    )\n",
    "df02.head(1)"
   ]
  },
  {
   "cell_type": "code",
   "execution_count": null,
   "metadata": {},
   "outputs": [
    {
     "data": {
      "text/html": [
       "<div>\n",
       "<style scoped>\n",
       "    .dataframe tbody tr th:only-of-type {\n",
       "        vertical-align: middle;\n",
       "    }\n",
       "\n",
       "    .dataframe tbody tr th {\n",
       "        vertical-align: top;\n",
       "    }\n",
       "\n",
       "    .dataframe thead th {\n",
       "        text-align: right;\n",
       "    }\n",
       "</style>\n",
       "<table border=\"1\" class=\"dataframe\">\n",
       "  <thead>\n",
       "    <tr style=\"text-align: right;\">\n",
       "      <th></th>\n",
       "      <th>Individual Side Effect</th>\n",
       "      <th>subset</th>\n",
       "    </tr>\n",
       "  </thead>\n",
       "  <tbody>\n",
       "    <tr>\n",
       "      <th>1</th>\n",
       "      <td>C0162830</td>\n",
       "      <td>Photosensitivity</td>\n",
       "    </tr>\n",
       "  </tbody>\n",
       "</table>\n",
       "</div>"
      ],
      "text/plain": [
       "  Individual Side Effect            subset\n",
       "1               C0162830  Photosensitivity"
      ]
     },
     "execution_count": null,
     "metadata": {},
     "output_type": "execute_result"
    }
   ],
   "source": [
    "## filter\n",
    "nodes=(df02\n",
    "    .loc[:,[\"Individual Side Effect\",\"Side Effect Name\"]]\n",
    "    .log.drop_duplicates()\n",
    "    .assign(\n",
    "         #Side Effect type\n",
    "          subset=lambda df: df['Side Effect Name'].str.split(' ',expand=True)[0],  \n",
    "    )\n",
    "    .drop(['Side Effect Name'],axis=1)\n",
    "    .groupby('subset').filter(lambda df: len(df)>3 and len(df)<10)\n",
    "    .head(5)\n",
    "    .sort_values('subset')\n",
    "    .log('Individual Side Effect') # id\n",
    "    .log('Individual Side Effect') # name\n",
    "    )\n",
    "nodes.head(1)"
   ]
  },
  {
   "cell_type": "code",
   "execution_count": null,
   "metadata": {},
   "outputs": [
    {
     "data": {
      "text/html": [
       "<div>\n",
       "<style scoped>\n",
       "    .dataframe tbody tr th:only-of-type {\n",
       "        vertical-align: middle;\n",
       "    }\n",
       "\n",
       "    .dataframe tbody tr th {\n",
       "        vertical-align: top;\n",
       "    }\n",
       "\n",
       "    .dataframe thead th {\n",
       "        text-align: right;\n",
       "    }\n",
       "</style>\n",
       "<table border=\"1\" class=\"dataframe\">\n",
       "  <thead>\n",
       "    <tr style=\"text-align: right;\">\n",
       "      <th></th>\n",
       "      <th># STITCH</th>\n",
       "      <th>Individual Side Effect</th>\n",
       "      <th>Side Effect Name</th>\n",
       "    </tr>\n",
       "  </thead>\n",
       "  <tbody>\n",
       "    <tr>\n",
       "      <th>1</th>\n",
       "      <td>CID003062316</td>\n",
       "      <td>C0162830</td>\n",
       "      <td>Photosensitivity reaction</td>\n",
       "    </tr>\n",
       "  </tbody>\n",
       "</table>\n",
       "</div>"
      ],
      "text/plain": [
       "       # STITCH Individual Side Effect           Side Effect Name\n",
       "1  CID003062316               C0162830  Photosensitivity reaction"
      ]
     },
     "execution_count": null,
     "metadata": {},
     "output_type": "execute_result"
    }
   ],
   "source": [
    "edges=(\n",
    "    df02\n",
    "    .log.query(expr=f\"`Individual Side Effect` == {nodes['Individual Side Effect'].unique().tolist()}\")\n",
    "    )\n",
    "edges.head(1)"
   ]
  },
  {
   "cell_type": "code",
   "execution_count": null,
   "metadata": {},
   "outputs": [
    {
     "data": {
      "text/html": [
       "<div>\n",
       "<style scoped>\n",
       "    .dataframe tbody tr th:only-of-type {\n",
       "        vertical-align: middle;\n",
       "    }\n",
       "\n",
       "    .dataframe tbody tr th {\n",
       "        vertical-align: top;\n",
       "    }\n",
       "\n",
       "    .dataframe thead th {\n",
       "        text-align: right;\n",
       "    }\n",
       "</style>\n",
       "<table border=\"1\" class=\"dataframe\">\n",
       "  <thead>\n",
       "    <tr style=\"text-align: right;\">\n",
       "      <th></th>\n",
       "      <th>node id</th>\n",
       "      <th>subset</th>\n",
       "    </tr>\n",
       "  </thead>\n",
       "  <tbody>\n",
       "    <tr>\n",
       "      <th>1</th>\n",
       "      <td>CID003062316</td>\n",
       "      <td>drug</td>\n",
       "    </tr>\n",
       "  </tbody>\n",
       "</table>\n",
       "</div>"
      ],
      "text/plain": [
       "        node id subset\n",
       "1  CID003062316   drug"
      ]
     },
     "execution_count": null,
     "metadata": {},
     "output_type": "execute_result"
    }
   ],
   "source": [
    "## append drugs to nodes\n",
    "nodes=pd.concat(\n",
    "    [\n",
    "        edges.loc[:,['# STITCH']].drop_duplicates().rename(columns={'# STITCH':'node id'},errors='raise').assign(subset='drug'),\n",
    "        nodes.rename(columns={'Individual Side Effect':'node id'},errors='raise'),\n",
    "    ],\n",
    "    axis=0,\n",
    "    )\n",
    "nodes.head(1)"
   ]
  },
  {
   "cell_type": "code",
   "execution_count": null,
   "metadata": {},
   "outputs": [],
   "source": [
    "#|output: false\n",
    "from parag.hypergraph import to_net\n",
    "cfg,df_=to_net(\n",
    "    nodes,\n",
    "    edges,\n",
    "    col_node_id='node id',\n",
    "    col_source='# STITCH',\n",
    "    col_target='Individual Side Effect',\n",
    "    col_subset_id='subset',\n",
    "    show_node_names=False,\n",
    "    defaults=dict(\n",
    "        radius=200,\n",
    "        innerRadius=205,\n",
    "        outerRadius=235,\n",
    "        textSize=9,\n",
    "        textOffset=3,\n",
    "        cornerRadius=3.5,\n",
    "    ),\n",
    ")"
   ]
  },
  {
   "cell_type": "code",
   "execution_count": null,
   "metadata": {},
   "outputs": [
    {
     "data": {
      "text/html": [
       "\n",
       "        <iframe\n",
       "            width=\"100%\"\n",
       "            height=\"1000\"\n",
       "            src=\"outputs//heterogeneous.html\"\n",
       "            frameborder=\"0\"\n",
       "            allowfullscreen\n",
       "            \n",
       "        ></iframe>\n",
       "        "
      ],
      "text/plain": [
       "<IPython.lib.display.IFrame>"
      ]
     },
     "execution_count": null,
     "metadata": {},
     "output_type": "execute_result"
    }
   ],
   "source": [
    "#|echo: false\n",
    "export_plot(cfg,outp=f\"{output_dir_path}/heterogeneous.html\",redirect=redirect_fun_html)"
   ]
  },
  {
   "cell_type": "code",
   "execution_count": null,
   "metadata": {},
   "outputs": [
    {
     "data": {
      "text/markdown": [
       "[![](examples/outputs//heterogeneous.png)](https://rraadd88.github.io/parag#interpretation-as-a-hypergraph-using-proportion-of-degrees-by-communities)"
      ],
      "text/plain": [
       "<IPython.core.display.Markdown object>"
      ]
     },
     "execution_count": null,
     "metadata": {},
     "output_type": "execute_result"
    }
   ],
   "source": [
    "#|echo: false\n",
    "export_plot(cfg,outp=f\"{output_dir_path}/heterogeneous.png\",hyperlink=hyperlink)"
   ]
  },
  {
   "cell_type": "markdown",
   "metadata": {},
   "source": [
    "### Network communities"
   ]
  },
  {
   "cell_type": "code",
   "execution_count": null,
   "metadata": {},
   "outputs": [],
   "source": [
    "#| hide\n",
    "## Adapted from https://networkx.org/documentation/stable/auto_examples/algorithms/plot_girvan_newman.html\n",
    "import networkx as nx\n",
    "import pandas as pd\n",
    "import matplotlib.pyplot as plt\n",
    "\n",
    "# Load karate graph and find communities using Girvan-Newman\n",
    "G = nx.karate_club_graph()\n",
    "communities = list(nx.community.girvan_newman(G))\n",
    "\n",
    "# function to create node colour list\n",
    "def create_community_node_colors(graph, communities):\n",
    "    number_of_colors = len(communities[0])\n",
    "    colors = [\"#D4FCB1\", \"#CDC5FC\", \"#FFC2C4\", \"#F2D140\", \"#BCC6C8\"][:number_of_colors]\n",
    "    node_colors = []\n",
    "    for node in graph:\n",
    "        current_community_index = 0\n",
    "        for community in communities:\n",
    "            if node in community:\n",
    "                node_colors.append(colors[current_community_index])\n",
    "                break\n",
    "            current_community_index += 1\n",
    "    return node_colors\n",
    "\n",
    "\n",
    "# function to plot graph with node colouring based on communities\n",
    "def visualize_communities(graph, communities, i):\n",
    "    node_colors = create_community_node_colors(graph, communities)\n",
    "    modularity = round(nx.community.modularity(graph, communities), 6)\n",
    "    title = f\"Community Visualization of {len(communities)} communities with modularity of {modularity}\"\n",
    "    pos = nx.spring_layout(graph, k=0.5, iterations=50, seed=2)\n",
    "    # plt.subplot(3, 1, i)\n",
    "    plt.title(title)\n",
    "    nx.draw(\n",
    "        graph,\n",
    "        pos=pos,\n",
    "        node_size=200,\n",
    "        node_color=node_colors,\n",
    "        with_labels=True,\n",
    "        # font_size=20,\n",
    "        font_color=\"black\",\n",
    "    )"
   ]
  },
  {
   "cell_type": "code",
   "execution_count": null,
   "metadata": {},
   "outputs": [
    {
     "data": {
      "image/png": "[encoded data removed]",
      "text/plain": [
       "<Figure size 500x300 with 1 Axes>"
      ]
     },
     "metadata": {},
     "output_type": "display_data"
    }
   ],
   "source": [
    "# Plot graph with colouring based on communities\n",
    "fig, ax = plt.subplots(1,1, figsize=(5, 3))\n",
    "visualize_communities(G, communities[3], 2)"
   ]
  },
  {
   "cell_type": "code",
   "execution_count": null,
   "metadata": {},
   "outputs": [
    {
     "data": {
      "text/html": [
       "<div>\n",
       "<style scoped>\n",
       "    .dataframe tbody tr th:only-of-type {\n",
       "        vertical-align: middle;\n",
       "    }\n",
       "\n",
       "    .dataframe tbody tr th {\n",
       "        vertical-align: top;\n",
       "    }\n",
       "\n",
       "    .dataframe thead th {\n",
       "        text-align: right;\n",
       "    }\n",
       "</style>\n",
       "<table border=\"1\" class=\"dataframe\">\n",
       "  <thead>\n",
       "    <tr style=\"text-align: right;\">\n",
       "      <th></th>\n",
       "      <th>community id</th>\n",
       "      <th>node id</th>\n",
       "    </tr>\n",
       "  </thead>\n",
       "  <tbody>\n",
       "    <tr>\n",
       "      <th>0</th>\n",
       "      <td>0</td>\n",
       "      <td>0</td>\n",
       "    </tr>\n",
       "  </tbody>\n",
       "</table>\n",
       "</div>"
      ],
      "text/plain": [
       "   community id node id\n",
       "0             0       0"
      ]
     },
     "execution_count": null,
     "metadata": {},
     "output_type": "execute_result"
    }
   ],
   "source": [
    "nodes=pd.Series({i:list(t) for i,t in enumerate(communities[3])}).explode().to_frame('node id').reset_index().rename(columns={'index':'community id'}).sort_values('community id')\n",
    "nodes.head(1)"
   ]
  },
  {
   "cell_type": "code",
   "execution_count": null,
   "metadata": {},
   "outputs": [
    {
     "data": {
      "text/html": [
       "<div>\n",
       "<style scoped>\n",
       "    .dataframe tbody tr th:only-of-type {\n",
       "        vertical-align: middle;\n",
       "    }\n",
       "\n",
       "    .dataframe tbody tr th {\n",
       "        vertical-align: top;\n",
       "    }\n",
       "\n",
       "    .dataframe thead th {\n",
       "        text-align: right;\n",
       "    }\n",
       "</style>\n",
       "<table border=\"1\" class=\"dataframe\">\n",
       "  <thead>\n",
       "    <tr style=\"text-align: right;\">\n",
       "      <th></th>\n",
       "      <th>source</th>\n",
       "      <th>target</th>\n",
       "    </tr>\n",
       "  </thead>\n",
       "  <tbody>\n",
       "    <tr>\n",
       "      <th>0</th>\n",
       "      <td>0</td>\n",
       "      <td>1</td>\n",
       "    </tr>\n",
       "  </tbody>\n",
       "</table>\n",
       "</div>"
      ],
      "text/plain": [
       "   source  target\n",
       "0       0       1"
      ]
     },
     "execution_count": null,
     "metadata": {},
     "output_type": "execute_result"
    }
   ],
   "source": [
    "edges=pd.DataFrame(G.edges,columns=['source','target'])\n",
    "edges.head(1)"
   ]
  },
  {
   "cell_type": "code",
   "execution_count": null,
   "metadata": {},
   "outputs": [],
   "source": [
    "#|output: false\n",
    "from parag.hypergraph import to_net\n",
    "cfg,df_=to_net(\n",
    "    nodes.applymap(str),\n",
    "    edges.applymap(str),\n",
    "    col_node_id='node id',\n",
    "    col_source='source',\n",
    "    col_target='target',\n",
    "    col_subset_id='community id',\n",
    "    show_node_names=True,\n",
    "    defaults=dict(\n",
    "        radius=180,\n",
    "        innerRadius=205,\n",
    "        outerRadius=235,\n",
    "        textSize=17,\n",
    "        textOffset=4,\n",
    "        cornerRadius=3.5,\n",
    "    ),\n",
    ")"
   ]
  },
  {
   "cell_type": "code",
   "execution_count": null,
   "metadata": {},
   "outputs": [
    {
     "data": {
      "text/html": [
       "\n",
       "        <iframe\n",
       "            width=\"100%\"\n",
       "            height=\"1000\"\n",
       "            src=\"outputs//communities.html\"\n",
       "            frameborder=\"0\"\n",
       "            allowfullscreen\n",
       "            \n",
       "        ></iframe>\n",
       "        "
      ],
      "text/plain": [
       "<IPython.lib.display.IFrame>"
      ]
     },
     "execution_count": null,
     "metadata": {},
     "output_type": "execute_result"
    }
   ],
   "source": [
    "#|echo: false\n",
    "export_plot(cfg,outp=f\"{output_dir_path}/communities.html\",redirect=redirect_fun_html)"
   ]
  },
  {
   "cell_type": "code",
   "execution_count": null,
   "metadata": {},
   "outputs": [
    {
     "data": {
      "text/markdown": [
       "[![](examples/outputs//communities.png)](https://rraadd88.github.io/parag#interpretation-as-a-hypergraph-using-proportion-of-degrees-by-communities)"
      ],
      "text/plain": [
       "<IPython.core.display.Markdown object>"
      ]
     },
     "execution_count": null,
     "metadata": {},
     "output_type": "execute_result"
    }
   ],
   "source": [
    "#|echo: false\n",
    "export_plot(cfg,outp=f\"{output_dir_path}/communities.png\",hyperlink=hyperlink)"
   ]
  },
  {
   "attachments": {},
   "cell_type": "markdown",
   "metadata": {},
   "source": [
    "## How to cite?  \n",
    "\n",
    "1. Using BibTeX:   \n",
    "```\n",
    "@software{Dandage_parag,\n",
    "  title   = {parag: interactive visualization of higher-order graphs in Python},\n",
    "  author  = {Dandage, Rohan},\n",
    "  year    = {2024},\n",
    "  url     = {https://doi.org//zenodo.},\n",
    "  version = {v0.0.1},\n",
    "  note    = {The URL is a DOI link to the permanent archive of the software.},\n",
    "}\n",
    "```\n",
    "\n",
    "2. DOI link: [![DOI](https://zenodo.org/badge/DOI//zenodo..svg)](https://doi.org//zenodo.), or  \n",
    "\n",
    "3. Using citation information from [CITATION.CFF file](https://github.com/rraadd88/parag/blob/main/CITATION.cff).\n",
    "\n",
    "## Future directions, for which contributions are welcome  \n",
    "- [ ] Showing degree counts in addition to the percentages   \n",
    "- [ ] Inferring the `defaults` e.g. radii from the input data. \n",
    "- [ ] Bind `rotate` signal to the hypergraph and `start/endAngle` to graph.  \n",
    "- [ ] Set up `tidy` `layout`.\n",
    "- [ ] Edge coloring by source and target nodes and setting `interaction`s.\n",
    "- [ ] CI for quicker testing use lighter example.\n",
    "- [ ] More examples  \n",
    "\n"
   ]
  }
 ],
 "metadata": {
  "kernelspec": {
   "display_name": "parag",
   "language": "python",
   "name": "parag"
  }
 },
 "nbformat": 4,
 "nbformat_minor": 4
}
