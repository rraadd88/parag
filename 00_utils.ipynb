{
 "cells": [
  {
   "cell_type": "markdown",
   "metadata": {},
   "source": [
    "# Utilities\n",
    "\n",
    "> For basic functions"
   ]
  },
  {
   "cell_type": "code",
   "execution_count": null,
   "metadata": {},
   "outputs": [],
   "source": [
    "#| default_exp utils"
   ]
  },
  {
   "cell_type": "code",
   "execution_count": null,
   "metadata": {},
   "outputs": [],
   "source": [
    "#| hide\n",
    "from nbdev.showdoc import *"
   ]
  },
  {
   "cell_type": "code",
   "execution_count": null,
   "metadata": {},
   "outputs": [],
   "source": [
    "# | export\n",
    "import logging\n",
    "\n",
    "\n",
    "def get_src_path(\n",
    "    pkg_name=\"parag\",\n",
    ") -> str:\n",
    "    \"\"\"Get the package's source directory path.\n",
    "\n",
    "    Returns:\n",
    "        str: path\n",
    "    \"\"\"\n",
    "    import os\n",
    "    import logging\n",
    "    import site\n",
    "    from pathlib import Path\n",
    "\n",
    "    src_path = f\"{site.getsitepackages()[0]}/{pkg_name}/\"\n",
    "    if not Path(src_path).exists():\n",
    "        logging.warning(\"package is installed in the development mode\")\n",
    "        # import pkg_name\n",
    "        # src_path=str(Path(pkg_name.__file__).parent)\n",
    "        if \"__file__\" in globals():\n",
    "            src_path = str(Path(os.path.realpath(__file__)).parent)\n",
    "        else:\n",
    "            src_path = \".\"\n",
    "            logging.warning(\"running the function in a nbdev nb\")\n",
    "    return src_path\n",
    "\n",
    "\n",
    "def _set_defaults(\n",
    "    d1: dict,\n",
    "    defaults: dict,\n",
    "):\n",
    "    \"\"\"Set defauls in the vega config\n",
    "\n",
    "    Args:\n",
    "        d1 (dict): config\n",
    "        defaults (dict): defaiults\n",
    "\n",
    "    Returns:\n",
    "        dict: updated config\n",
    "    \"\"\"\n",
    "    for d in d1[\"signals\"]:\n",
    "        if d[\"name\"] in defaults:\n",
    "            d[\"value\"] = defaults[d[\"name\"]]\n",
    "    return d1\n",
    "\n",
    "\n",
    "def display_plot(\n",
    "    spec: dict,\n",
    "    method: str = \"vega\",  # vegalite\n",
    "    defaults: dict = None,\n",
    "):\n",
    "    \"\"\"Display plot\n",
    "\n",
    "    Args:\n",
    "        spec (dict): vega config\n",
    "        method (str, optional): method. Defaults to 'vega'.\n",
    "    \"\"\"\n",
    "\n",
    "    if not defaults is None:\n",
    "        spec = _set_defaults(\n",
    "            spec,\n",
    "            defaults,\n",
    "        )\n",
    "        logging.info(\"custom defaults were set.\")\n",
    "    bundle = {}\n",
    "    bundle[f\"application/vnd.{method}.v5+json\"] = spec\n",
    "    # bundle['application/vnd.vegalite.v4+json'] = spec\n",
    "    from IPython.core.display_functions import display\n",
    "    return display(bundle, raw=True)\n",
    "\n",
    "\n",
    "def export_plot(\n",
    "    spec: dict,\n",
    "    outp: str,\n",
    "    redirect=None,\n",
    "    hyperlink=None,\n",
    "    verbose=False,\n",
    "):\n",
    "    \"\"\"Export the vega plot\n",
    "\n",
    "    Args:\n",
    "        spec (dict): vega config\n",
    "        outp (str): output path\n",
    "        redirect: for redirecting the outputs displayed\n",
    "    \"\"\"\n",
    "    # for exporting the charts\n",
    "    import vl_convert as vlc\n",
    "\n",
    "    # for embedding charts\n",
    "    from IPython.display import IFrame\n",
    "    from IPython.display import Markdown\n",
    "\n",
    "    # from pathlib import Path\n",
    "    # raster_path=Path(outp).with_suffix('.png').as_posix()\n",
    "    if outp.endswith(\"html\"):\n",
    "        with open(outp, \"w\") as f:\n",
    "            f.write(vlc.vega_to_html(spec))\n",
    "        if verbose:\n",
    "            print(outp if redirect is None else redirect(outp))\n",
    "        return IFrame(src=outp if redirect is None else redirect(outp), width=\"100%\", height=1000)\n",
    "    if outp.endswith(\"png\"):\n",
    "        with open(outp, \"wb\") as f:\n",
    "            f.write(vlc.vega_to_png(spec))\n",
    "        s=f\"[![]({outp})]({hyperlink})\"\n",
    "        if verbose:\n",
    "            print(s)\n",
    "        # return Markdown(f\"[![]({outp})]({outp.replace('.png','.html')})\")\n",
    "        # return Markdown(f'<img src=\"{outp}\" alt=\"\" title=\"\" />')\n",
    "        return Markdown(s)\n",
    "\n",
    "# aes\n",
    "def get_colors(\n",
    "    subsets: list,\n",
    "    cmap_subsets: str = None,\n",
    "    test: bool = False,\n",
    ") -> dict:\n",
    "    \"\"\"Get colors by items\n",
    "\n",
    "    Args:\n",
    "        subsets (list): list of items\n",
    "        cmap_subsets (str, optional): colormap. Defaults to None.\n",
    "        test (bool, optional): test-mode. Defaults to False.\n",
    "\n",
    "    Returns:\n",
    "        dict: colors by items\n",
    "    \"\"\"\n",
    "    import seaborn as sns  # for the matching color palette\n",
    "\n",
    "    if cmap_subsets is None:\n",
    "        cmap_subsets = sns.color_palette(\"colorblind\")\n",
    "    if test:\n",
    "        sns.palplot(cmap_subsets)\n",
    "    from roux.viz.colors import get_ncolors\n",
    "\n",
    "    return dict(\n",
    "        zip(\n",
    "            subsets,\n",
    "            get_ncolors(len(subsets), cmap=cmap_subsets)\n",
    "            if isinstance(cmap_subsets, str)\n",
    "            else cmap_subsets.as_hex()[: len(subsets)],\n",
    "        )\n",
    "    )"
   ]
  },
  {
   "cell_type": "code",
   "execution_count": null,
   "metadata": {},
   "outputs": [
    {
     "name": "stderr",
     "output_type": "stream",
     "text": [
      "WARNING:root:package is installed in the development mode\n",
      "WARNING:root:running the function in a nbdev nb\n"
     ]
    },
    {
     "data": {
      "text/plain": [
       "'.'"
      ]
     },
     "execution_count": null,
     "metadata": {},
     "output_type": "execute_result"
    }
   ],
   "source": [
    "get_src_path(\n",
    "    'parag'\n",
    "    )"
   ]
  },
  {
   "cell_type": "code",
   "execution_count": null,
   "metadata": {},
   "outputs": [],
   "source": [
    "display_plot({\n",
    "  # \"$schema\": \"https://vega.github.io/schema/vega-lite/v5.json\",\n",
    "  \"description\": \"A simple bar chart with embedded data.\",\n",
    "  \"data\": {\n",
    "    \"values\": [\n",
    "      {\"a\": \"A\", \"b\": 28}, {\"a\": \"B\", \"b\": 55}, {\"a\": \"C\", \"b\": 43},\n",
    "      {\"a\": \"D\", \"b\": 91}, {\"a\": \"E\", \"b\": 81}, {\"a\": \"F\", \"b\": 53},\n",
    "      {\"a\": \"G\", \"b\": 19}, {\"a\": \"H\", \"b\": 87}, {\"a\": \"I\", \"b\": 52}\n",
    "    ]\n",
    "  },\n",
    "  \"mark\": \"bar\",\n",
    "  \"encoding\": {\n",
    "    \"x\": {\"field\": \"a\", \"type\": \"nominal\", \"axis\": {\"labelAngle\": 0}},\n",
    "    \"y\": {\"field\": \"b\", \"type\": \"quantitative\"}\n",
    "  }\n",
    "}\n",
    ")"
   ]
  },
  {
   "cell_type": "code",
   "execution_count": null,
   "metadata": {},
   "outputs": [
    {
     "data": {
      "text/plain": [
       "{0: '#0173b2', 1: '#de8f05', 2: '#029e73', 3: '#d55e00', 4: '#cc78bc'}"
      ]
     },
     "execution_count": null,
     "metadata": {},
     "output_type": "execute_result"
    },
    {
     "data": {
      "image/png": "[encoded data removed]",
      "text/plain": [
       "<Figure size 1000x100 with 1 Axes>"
      ]
     },
     "metadata": {},
     "output_type": "display_data"
    }
   ],
   "source": [
    "get_colors(\n",
    "    subsets=range(5),\n",
    "    cmap_subsets=None,\n",
    "    test=True,\n",
    "    )"
   ]
  },
  {
   "cell_type": "code",
   "execution_count": null,
   "metadata": {},
   "outputs": [],
   "source": [
    "#| hide\n",
    "import nbdev; nbdev.nbdev_export()"
   ]
  }
 ],
 "metadata": {
  "kernelspec": {
   "display_name": "parag",
   "language": "python",
   "name": "parag"
  }
 },
 "nbformat": 4,
 "nbformat_minor": 4
}
