{
 "cells": [
  {
   "cell_type": "markdown",
   "metadata": {},
   "source": [
    "# Data\n",
    "\n",
    "> For data management"
   ]
  },
  {
   "cell_type": "code",
   "execution_count": null,
   "metadata": {},
   "outputs": [],
   "source": [
    "#| default_exp core"
   ]
  },
  {
   "cell_type": "code",
   "execution_count": null,
   "metadata": {},
   "outputs": [],
   "source": [
    "#| hide\n",
    "from nbdev.showdoc import *"
   ]
  },
  {
   "cell_type": "code",
   "execution_count": null,
   "metadata": {},
   "outputs": [],
   "source": [
    "# | export\n",
    "\n",
    "## helper functions\n",
    "import roux.lib.df as rd #noqa\n",
    "\n",
    "def get_net_data(\n",
    "    adata,\n",
    "    n: int = 5,  # number of nodes per subset/group\n",
    ") -> tuple:\n",
    "    \"\"\"Get demo data from the latent space\n",
    "\n",
    "    Args:\n",
    "        adata (_type_): Annot data of `scanpy`\n",
    "        n (int, optional): rows to sample. Defaults to 5.\n",
    "\n",
    "    Returns:\n",
    "        tuple: nodes, edges\n",
    "    \"\"\"\n",
    "    import logging\n",
    "    import pandas as pd\n",
    "    import roux.lib.df as rd\n",
    "\n",
    "    ## nodes\n",
    "    logging.info(\"processing nodes:\")\n",
    "    df01 = pd.concat(\n",
    "        [\n",
    "            adata.obs.reset_index().rename(columns={\"index\": \"cell id\"}),\n",
    "            pd.DataFrame(adata.obsm[\"X_umap\"], columns=[\"x\", \"y\"]),\n",
    "        ],\n",
    "        axis=1,\n",
    "    )\n",
    "    if not n is None:\n",
    "        df1 = (\n",
    "            df01.log()\n",
    "            .groupby(\"bulk_labels\", as_index=False, observed=False)\n",
    "            .apply(lambda df: df.sample(n, random_state=0))\n",
    "            .reset_index(drop=True)\n",
    "            .log()\n",
    "        )\n",
    "    # df1.head(1)\n",
    "    df1 = df1.sort_values(\"bulk_labels\")\n",
    "\n",
    "    import pandas as pd\n",
    "    from scipy.spatial.distance import pdist\n",
    "\n",
    "    # Convert DataFrame to a NumPy array of coordinates\n",
    "    coordinates = df1[[\"x\", \"y\"]].values\n",
    "    # Calculate pairwise Euclidean distances\n",
    "    distances = pdist(coordinates, metric=\"euclidean\")\n",
    "\n",
    "    from itertools import combinations\n",
    "\n",
    "    nodes = df1[\"cell id\"].tolist()\n",
    "    pair_indices = list(combinations(nodes, 2))\n",
    "\n",
    "    ## edges\n",
    "    logging.info(\"processing edges:\")\n",
    "    df02 = pd.DataFrame(\n",
    "        {\n",
    "            \"cell id1\": [t[0] for t in pair_indices],\n",
    "            \"cell id2\": [t[1] for t in pair_indices],\n",
    "            \"distance\": distances,\n",
    "        },\n",
    "    )\n",
    "    df2 = df02.log.query(expr=f\"`distance` < {df02['distance'].quantile(0.1)}\")\n",
    "    # df2.head(1)\n",
    "    logging.info(f\"{len(df1)} nodes and {len(df2)} edges\")\n",
    "    return df1, df2\n"
   ]
  },
  {
   "cell_type": "code",
   "execution_count": null,
   "metadata": {},
   "outputs": [],
   "source": [
    "## demo data\n",
    "import scanpy as sc\n",
    "nodes,edges=get_net_data(sc.datasets.pbmc68k_reduced())"
   ]
  },
  {
   "cell_type": "code",
   "execution_count": null,
   "metadata": {},
   "outputs": [
    {
     "data": {
      "text/html": [
       "<div>\n",
       "<style scoped>\n",
       "    .dataframe tbody tr th:only-of-type {\n",
       "        vertical-align: middle;\n",
       "    }\n",
       "\n",
       "    .dataframe tbody tr th {\n",
       "        vertical-align: top;\n",
       "    }\n",
       "\n",
       "    .dataframe thead th {\n",
       "        text-align: right;\n",
       "    }\n",
       "</style>\n",
       "<table border=\"1\" class=\"dataframe\">\n",
       "  <thead>\n",
       "    <tr style=\"text-align: right;\">\n",
       "      <th></th>\n",
       "      <th>cell id</th>\n",
       "      <th>bulk_labels</th>\n",
       "      <th>n_genes</th>\n",
       "      <th>percent_mito</th>\n",
       "      <th>n_counts</th>\n",
       "      <th>S_score</th>\n",
       "      <th>G2M_score</th>\n",
       "      <th>phase</th>\n",
       "      <th>louvain</th>\n",
       "      <th>x</th>\n",
       "      <th>y</th>\n",
       "    </tr>\n",
       "  </thead>\n",
       "  <tbody>\n",
       "    <tr>\n",
       "      <th>0</th>\n",
       "      <td>CAGACAACAAAACG-7</td>\n",
       "      <td>CD4+/CD25 T Reg</td>\n",
       "      <td>1109</td>\n",
       "      <td>0.012702</td>\n",
       "      <td>3779.0</td>\n",
       "      <td>-0.054589</td>\n",
       "      <td>-1.267457</td>\n",
       "      <td>G1</td>\n",
       "      <td>0</td>\n",
       "      <td>-7.174749</td>\n",
       "      <td>-6.994063</td>\n",
       "    </tr>\n",
       "  </tbody>\n",
       "</table>\n",
       "</div>"
      ],
      "text/plain": [
       "            cell id      bulk_labels  n_genes  percent_mito  n_counts  \\\n",
       "0  CAGACAACAAAACG-7  CD4+/CD25 T Reg     1109      0.012702    3779.0   \n",
       "\n",
       "    S_score  G2M_score phase louvain         x         y  \n",
       "0 -0.054589  -1.267457    G1       0 -7.174749 -6.994063  "
      ]
     },
     "execution_count": null,
     "metadata": {},
     "output_type": "execute_result"
    }
   ],
   "source": [
    "nodes.head(1)"
   ]
  },
  {
   "cell_type": "code",
   "execution_count": null,
   "metadata": {},
   "outputs": [
    {
     "data": {
      "text/html": [
       "<div>\n",
       "<style scoped>\n",
       "    .dataframe tbody tr th:only-of-type {\n",
       "        vertical-align: middle;\n",
       "    }\n",
       "\n",
       "    .dataframe tbody tr th {\n",
       "        vertical-align: top;\n",
       "    }\n",
       "\n",
       "    .dataframe thead th {\n",
       "        text-align: right;\n",
       "    }\n",
       "</style>\n",
       "<table border=\"1\" class=\"dataframe\">\n",
       "  <thead>\n",
       "    <tr style=\"text-align: right;\">\n",
       "      <th></th>\n",
       "      <th>cell id1</th>\n",
       "      <th>cell id2</th>\n",
       "      <th>distance</th>\n",
       "    </tr>\n",
       "  </thead>\n",
       "  <tbody>\n",
       "    <tr>\n",
       "      <th>0</th>\n",
       "      <td>CAGACAACAAAACG-7</td>\n",
       "      <td>GTGATGACTGGGAG-4</td>\n",
       "      <td>1.298669</td>\n",
       "    </tr>\n",
       "  </tbody>\n",
       "</table>\n",
       "</div>"
      ],
      "text/plain": [
       "           cell id1          cell id2  distance\n",
       "0  CAGACAACAAAACG-7  GTGATGACTGGGAG-4  1.298669"
      ]
     },
     "execution_count": null,
     "metadata": {},
     "output_type": "execute_result"
    }
   ],
   "source": [
    "edges.head(1)"
   ]
  },
  {
   "cell_type": "code",
   "execution_count": null,
   "metadata": {},
   "outputs": [],
   "source": [
    "#| hide\n",
    "import nbdev; nbdev.nbdev_export()"
   ]
  }
 ],
 "metadata": {
  "kernelspec": {
   "display_name": "parag",
   "language": "python",
   "name": "parag"
  }
 },
 "nbformat": 4,
 "nbformat_minor": 4
}
